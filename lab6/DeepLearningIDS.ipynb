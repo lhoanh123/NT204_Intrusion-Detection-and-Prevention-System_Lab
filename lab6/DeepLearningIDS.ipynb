{
  "nbformat": 4,
  "nbformat_minor": 0,
  "metadata": {
    "colab": {
      "provenance": [],
      "gpuType": "T4"
    },
    "kernelspec": {
      "name": "python3",
      "display_name": "Python 3"
    },
    "language_info": {
      "name": "python"
    },
    "accelerator": "GPU"
  },
  "cells": [
    {
      "cell_type": "code",
      "source": [
        "# Load Drive Helper\n",
        "from google.colab import drive\n",
        "drive.mount('/content/drive', force_remount=True)"
      ],
      "metadata": {
        "colab": {
          "base_uri": "https://localhost:8080/"
        },
        "id": "mA2nBxBZkgZJ",
        "outputId": "f40640e5-aa78-438d-f781-31d1e43d78a9"
      },
      "execution_count": 1,
      "outputs": [
        {
          "output_type": "stream",
          "name": "stdout",
          "text": [
            "Mounted at /content/drive\n"
          ]
        }
      ]
    },
    {
      "cell_type": "code",
      "execution_count": 2,
      "metadata": {
        "id": "7lyqdfFyi9V0"
      },
      "outputs": [],
      "source": [
        "# Import các thư viên cần thiết\n",
        "import os\n",
        "import pandas as pd\n",
        "import numpy as np\n",
        "\n",
        "from sklearn import preprocessing\n",
        "from sklearn.metrics import (precision_score, recall_score, f1_score, accuracy_score)\n",
        "\n",
        "import tensorflow as tf"
      ]
    },
    {
      "cell_type": "code",
      "source": [
        "DATASET_PATH = '/content/drive/My Drive/NT204/dataset/'\n",
        "TRAINSET_PATH = DATASET_PATH + 'train_set.csv'\n",
        "TESTSET_PATH = DATASET_PATH + 'test_set.csv'\n",
        "\n",
        "# Tạo thư mục để tải dataset\n",
        "if not os.path.exists(DATASET_PATH):\n",
        "  os.makedirs(DATASET_PATH)\n",
        "\n",
        "'''\n",
        "Tải tập train (train_set.csv) và tập test (test_set.csv) vào thư mục /content/drive/My Drive/NT204/dataset/ trên drive.\n",
        "Lưu ý: Đặt đúng tên các file.\n",
        "- Tải các tập dữ liệu tại: https://drive.google.com/drive/folders/1nYyDqbmichotvI9eSOrKo-yRwtLUy_iM?usp=sharing\n",
        "'''"
      ],
      "metadata": {
        "colab": {
          "base_uri": "https://localhost:8080/",
          "height": 53
        },
        "id": "AV_LgvW2nngf",
        "outputId": "4caedf3a-5c67-483d-c8ba-c0e41c8fbb61"
      },
      "execution_count": 3,
      "outputs": [
        {
          "output_type": "execute_result",
          "data": {
            "text/plain": [
              "'\\nTải tập train (train_set.csv) và tập test (test_set.csv) vào thư mục /content/drive/My Drive/NT204/dataset/ trên drive.\\nLưu ý: Đặt đúng tên các file.\\n- Tải các tập dữ liệu tại: https://drive.google.com/drive/folders/1nYyDqbmichotvI9eSOrKo-yRwtLUy_iM?usp=sharing\\n'"
            ],
            "application/vnd.google.colaboratory.intrinsic+json": {
              "type": "string"
            }
          },
          "metadata": {},
          "execution_count": 3
        }
      ]
    },
    {
      "cell_type": "code",
      "source": [
        "# Tiền xử lý dữ liệu\n",
        "lable_encoder = preprocessing.LabelEncoder()\n",
        "\n",
        "# Tập train\n",
        "data_train = pd.read_csv(TRAINSET_PATH)\n",
        "\n",
        "x_train, y_train = data_train.iloc[:, :-1], data_train.iloc[:, [-1]]\n",
        "y_train = y_train.apply(lable_encoder.fit_transform)\n",
        "x_train, y_train = x_train.to_numpy(), y_train.to_numpy()\n",
        "\n",
        "# Lấy số thuộc tính và số lớp\n",
        "NUM_FEATURES = x_train.shape[1] # Số thuộc tính bằng số chiều (số cột của x_train hoặc x_test)\n",
        "NUM_CLASSES = np.unique(y_train).size # Số class bằng tổng số các giá trị khác nhau của y_train\n",
        "\n",
        "# one-hot encoding label\n",
        "y_train = tf.keras.utils.to_categorical(y_train)"
      ],
      "metadata": {
        "id": "tuzhQZAEjavK"
      },
      "execution_count": 4,
      "outputs": []
    },
    {
      "cell_type": "code",
      "source": [
        "print(\"Number of features: %s\" %NUM_FEATURES)\n",
        "print(\"Number of classes: %s\" %NUM_CLASSES)"
      ],
      "metadata": {
        "colab": {
          "base_uri": "https://localhost:8080/"
        },
        "id": "vhqV3ux64-kO",
        "outputId": "2f55a70b-cc15-4c79-914f-d651260ed6b5"
      },
      "execution_count": 5,
      "outputs": [
        {
          "output_type": "stream",
          "name": "stdout",
          "text": [
            "Number of features: 42\n",
            "Number of classes: 11\n"
          ]
        }
      ]
    },
    {
      "cell_type": "code",
      "source": [
        "# Tạo mô hình deep learning\n",
        "model = tf.keras.Sequential(\n",
        "  [\n",
        "    tf.keras.layers.Dense(32, activation=\"relu\", input_shape=(NUM_FEATURES,)),\n",
        "    tf.keras.layers.Dropout(0.15),\n",
        "    tf.keras.layers.Dense(NUM_CLASSES, activation='softmax')\n",
        "])\n",
        "\n",
        "# Compile mô hình\n",
        "model.compile(optimizer='adam', loss = tf.keras.losses.CategoricalCrossentropy(), metrics=['accuracy'])"
      ],
      "metadata": {
        "id": "H4xxP6Ym3oA0"
      },
      "execution_count": 6,
      "outputs": []
    },
    {
      "cell_type": "code",
      "source": [
        "# Xem thông tin của mô hình\n",
        "model.summary()"
      ],
      "metadata": {
        "colab": {
          "base_uri": "https://localhost:8080/"
        },
        "id": "xjUYh7jdYtYG",
        "outputId": "65853471-9fe7-4824-bbf1-bb2b87505851"
      },
      "execution_count": 7,
      "outputs": [
        {
          "output_type": "stream",
          "name": "stdout",
          "text": [
            "Model: \"sequential\"\n",
            "_________________________________________________________________\n",
            " Layer (type)                Output Shape              Param #   \n",
            "=================================================================\n",
            " dense (Dense)               (None, 32)                1376      \n",
            "                                                                 \n",
            " dropout (Dropout)           (None, 32)                0         \n",
            "                                                                 \n",
            " dense_1 (Dense)             (None, 11)                363       \n",
            "                                                                 \n",
            "=================================================================\n",
            "Total params: 1739 (6.79 KB)\n",
            "Trainable params: 1739 (6.79 KB)\n",
            "Non-trainable params: 0 (0.00 Byte)\n",
            "_________________________________________________________________\n"
          ]
        }
      ]
    },
    {
      "cell_type": "code",
      "source": [
        "# Huấn luyện mô hình\n",
        "model.fit(x=x_train, y=y_train, batch_size=1024, epochs=10, shuffle=True)"
      ],
      "metadata": {
        "colab": {
          "base_uri": "https://localhost:8080/"
        },
        "id": "T6iC2tJy4IrF",
        "outputId": "56db21a7-e7ae-4823-ec77-027c10215f15"
      },
      "execution_count": null,
      "outputs": [
        {
          "output_type": "stream",
          "name": "stdout",
          "text": [
            "Epoch 1/10\n",
            "1737/1737 [==============================] - 10s 5ms/step - loss: 0.2077 - accuracy: 0.9465\n",
            "Epoch 2/10\n",
            "1737/1737 [==============================] - 6s 3ms/step - loss: 0.0980 - accuracy: 0.9654\n",
            "Epoch 3/10\n",
            "1737/1737 [==============================] - 8s 4ms/step - loss: 0.0890 - accuracy: 0.9676\n",
            "Epoch 4/10\n",
            "1737/1737 [==============================] - 6s 3ms/step - loss: 0.0836 - accuracy: 0.9694\n",
            "Epoch 5/10\n",
            "1737/1737 [==============================] - 7s 4ms/step - loss: 0.0798 - accuracy: 0.9711\n",
            "Epoch 6/10\n",
            "1737/1737 [==============================] - 7s 4ms/step - loss: 0.0774 - accuracy: 0.9718\n",
            "Epoch 7/10\n",
            "1737/1737 [==============================] - 6s 3ms/step - loss: 0.0755 - accuracy: 0.9721\n",
            "Epoch 8/10\n",
            "1737/1737 [==============================] - 8s 4ms/step - loss: 0.0740 - accuracy: 0.9726\n",
            "Epoch 9/10\n",
            "1737/1737 [==============================] - 6s 3ms/step - loss: 0.0726 - accuracy: 0.9729\n",
            "Epoch 10/10\n",
            "1737/1737 [==============================] - 8s 5ms/step - loss: 0.0717 - accuracy: 0.9732\n"
          ]
        },
        {
          "output_type": "execute_result",
          "data": {
            "text/plain": [
              "<keras.src.callbacks.History at 0x7a108351b130>"
            ]
          },
          "metadata": {},
          "execution_count": 8
        }
      ]
    },
    {
      "cell_type": "code",
      "source": [
        "# Lưu mô hình\n",
        "model.save('/content/drive/My Drive/NT204/model.h5')"
      ],
      "metadata": {
        "colab": {
          "base_uri": "https://localhost:8080/"
        },
        "id": "NmcJvQv1U4Tv",
        "outputId": "78b06bbb-b679-4664-8851-c161f958f6a7"
      },
      "execution_count": null,
      "outputs": [
        {
          "output_type": "stream",
          "name": "stderr",
          "text": [
            "/usr/local/lib/python3.10/dist-packages/keras/src/engine/training.py:3103: UserWarning: You are saving your model as an HDF5 file via `model.save()`. This file format is considered legacy. We recommend using instead the native Keras format, e.g. `model.save('my_model.keras')`.\n",
            "  saving_api.save_model(\n"
          ]
        }
      ]
    },
    {
      "cell_type": "code",
      "source": [
        "# Load dữ liệu để kiểm tra mô hình\n",
        "data_test = pd.read_csv(TESTSET_PATH)\n",
        "x_test, y_test = data_test.iloc[:, :-1], data_test.iloc[:, [-1]]\n",
        "y_test = y_test.apply(lable_encoder.fit_transform)\n",
        "x_test, y_test = x_test.to_numpy(), y_test.to_numpy()"
      ],
      "metadata": {
        "id": "UPTdqpQO15yG"
      },
      "execution_count": null,
      "outputs": []
    },
    {
      "cell_type": "code",
      "source": [
        "# Kiểm tra mô hình với tập test\n",
        "preds = model.predict(x_test, batch_size=1024)"
      ],
      "metadata": {
        "colab": {
          "base_uri": "https://localhost:8080/"
        },
        "id": "hB71XV6IWhhI",
        "outputId": "3b5c4676-5739-452b-e5bf-3dcbfc6bd42f"
      },
      "execution_count": null,
      "outputs": [
        {
          "output_type": "stream",
          "name": "stdout",
          "text": [
            "745/745 [==============================] - 2s 2ms/step\n"
          ]
        }
      ]
    },
    {
      "cell_type": "code",
      "source": [
        "# Tính toán kết quả\n",
        "y_pred = np.argmax(preds, axis=1)\n",
        "\n",
        "accuracy = accuracy_score(y_test, y_pred)\n",
        "precision = precision_score(y_test, y_pred, average='weighted', zero_division=0)\n",
        "recall = recall_score(y_test, y_pred, average='weighted', zero_division=0)\n",
        "f1 = f1_score(y_test, y_pred, average='weighted', zero_division=0)\n",
        "\n",
        "print('Accuracy: %s\\nPrecision: %s\\nRecal: %s\\nF1-Score: %s' %(accuracy, precision, recall, f1))"
      ],
      "metadata": {
        "colab": {
          "base_uri": "https://localhost:8080/"
        },
        "id": "5Zc8_wTzUfSh",
        "outputId": "6b933ad0-9167-48b4-b25c-8e6c62e359a8"
      },
      "execution_count": null,
      "outputs": [
        {
          "output_type": "stream",
          "name": "stdout",
          "text": [
            "Accuracy: 0.9744243879713654\n",
            "Precision: 0.969182118172714\n",
            "Recal: 0.9744243879713654\n",
            "F1-Score: 0.9703702365096372\n"
          ]
        }
      ]
    }
  ]
}